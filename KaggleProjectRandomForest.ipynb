{
 "cells": [
  {
   "cell_type": "code",
   "execution_count": 7,
   "metadata": {},
   "outputs": [],
   "source": [
    "#James Wilson 93265297\n",
    "\n",
    "# Import all required libraries\n",
    "from __future__ import division # For python 2.*\n",
    "\n",
    "import numpy as np\n",
    "import matplotlib.pyplot as plt\n",
    "import mltools as ml\n",
    "\n",
    "np.random.seed(0)\n",
    "%matplotlib inline\n",
    "\n",
    "# Data Loading \n",
    "X = np.genfromtxt('data/X_train.txt', delimiter=None) \n",
    "Y = np.genfromtxt('data/Y_train.txt', delimiter=None) \n",
    "X,Y = ml.shuffleData(X,Y)\n",
    "[Xtr, Xva, Ytr, Yva] = ml.splitData(X,Y,0.80)\n",
    "\n",
    "# SubTest Data\n",
    "Xte = np.genfromtxt('data/X_test.txt', delimiter=None)\n",
    "Xt, Yt = Xtr[:80000], Ytr[:80000]\n",
    "\n",
    "\n"
   ]
  },
  {
   "cell_type": "markdown",
   "metadata": {},
   "source": [
    "## Computes 1 decision tree’s training and validation error rates. "
   ]
  },
  {
   "cell_type": "code",
   "execution_count": 28,
   "metadata": {},
   "outputs": [
    {
     "name": "stdout",
     "output_type": "stream",
     "text": [
      "      Train AUC: 0.8988\n",
      " Validation AUC: 0.6727\n"
     ]
    }
   ],
   "source": [
    "#Xt, Yt = Xtr[:], Ytr[:]\n",
    "Xt, Yt = Xtr[:], Ytr[:]\n",
    "Xv, Yv = Xva[: ], Yva[: ] # validate from 80k - 100k values\n",
    "\n",
    "XtrainSet, parameters = ml.rescale(Xt) #normalizing features of training data set\n",
    "XvalidSet, foo = ml.rescale(Xva, parameters) #normalize features of Validation Set\n",
    "\n",
    "#decision tree classifier with minLeaf of  and maxDepth of \n",
    "learner = ml.dtree.treeClassify(Xt, Yt, minParent=10, minLeaf=5,  maxDepth=20)\n",
    "\n",
    "#Prediction \n",
    "probs = learner.predictSoft(Xv)\n",
    "\n",
    "#Area Under Curve\n",
    "print(\"{0:>15}: {1:.4f}\".format(\"Train AUC\", learner.auc(Xt, Yt)))\n",
    "print(\"{0:>15}: {1:.4f}\".format(\"Validation AUC\", learner.auc(Xv, Yv)))"
   ]
  },
  {
   "cell_type": "code",
   "execution_count": 32,
   "metadata": {},
   "outputs": [
    {
     "name": "stdout",
     "output_type": "stream",
     "text": [
      "[1. 0. 0. ... 0. 0. 0.]\n",
      "      Train AUC: 0.8988\n",
      " Validation AUC: 0.6718\n"
     ]
    },
    {
     "data": {
      "image/png": "[encoded data removed]",
      "text/plain": [
       "<Figure size 432x288 with 1 Axes>"
      ]
     },
     "metadata": {
      "needs_background": "light"
     },
     "output_type": "display_data"
    }
   ],
   "source": [
    "## 3.5 roc\n",
    "\n",
    "learner = ml.dtree.treeClassify()\n",
    "learner.train(Xt, Yt, minParent= 2, minLeaf = 5, maxDepth=20)\n",
    "rocT = learner.roc(Xt, Yt)\n",
    "rocV = learner.roc(Xv, Yv)\n",
    "\n",
    "probs = learner.predict(Xv)\n",
    "print(probs)\n",
    "\n",
    "\n",
    "print(\"{0:>15}: {1:.4f}\".format(\"Train AUC\", learner.auc(Xt, Yt)))\n",
    "print(\"{0:>15}: {1:.4f}\".format(\"Validation AUC\", learner.auc(Xv, Yv)))\n",
    "\n",
    "\n",
    "#Plotting\n",
    "fpr_Train = rocT[0]\n",
    "tpr_Train = rocT[1]\n",
    "plt.plot(fpr_Train, tpr_Train)\n",
    "\n",
    "fpr_Va = rocV[0]\n",
    "tpr_Va = rocV[1]\n",
    "plt.plot(fpr_Va, tpr_Va)\n",
    "\n",
    "plt.ylabel('True Positive Rate')\n",
    "plt.xlabel('False Positive Rate')\n",
    "plt.show()"
   ]
  },
  {
   "cell_type": "markdown",
   "metadata": {},
   "source": [
    "## Random Forest Method"
   ]
  },
  {
   "cell_type": "code",
   "execution_count": 24,
   "metadata": {},
   "outputs": [],
   "source": [
    "np.random.seed(0)\n",
    "n_bags = 10\n",
    "bags = []\n",
    "for l in range(n_bags):\n",
    "    Xi, Yi = ml.bootstrapData(Xt, Yt, Xt.shape[0]) #boost data to size of original data\n",
    "    # Train the model on draw\n",
    "    tree = ml.dtree.treeClassify(Xi, Yi, minParent=2**6, maxDepth=25, nFeatures=6)\n",
    "    bags.append(tree)"
   ]
  },
  {
   "cell_type": "code",
   "execution_count": 36,
   "metadata": {},
   "outputs": [
    {
     "name": "stdout",
     "output_type": "stream",
     "text": [
      "X shape:  (100000, 14)\n",
      "Y shape:  (100000,)\n",
      "\n",
      "Tree 0\n",
      "      Train AUC: 0.7713\n",
      " Validation AUC: 0.6593\n",
      "\n",
      "Tree 1\n",
      "      Train AUC: 0.7767\n",
      " Validation AUC: 0.6646\n",
      "\n",
      "Tree 2\n",
      "      Train AUC: 0.7712\n",
      " Validation AUC: 0.6552\n",
      "\n",
      "Tree 3\n",
      "      Train AUC: 0.7764\n",
      " Validation AUC: 0.6537\n",
      "\n",
      "Tree 4\n",
      "      Train AUC: 0.7835\n",
      " Validation AUC: 0.6725\n",
      "\n",
      "Tree 5\n",
      "      Train AUC: 0.7790\n",
      " Validation AUC: 0.6516\n",
      "\n",
      "Tree 6\n",
      "      Train AUC: 0.7784\n",
      " Validation AUC: 0.6571\n",
      "\n",
      "Tree 7\n",
      "      Train AUC: 0.7806\n",
      " Validation AUC: 0.6532\n",
      "\n",
      "Tree 8\n",
      "      Train AUC: 0.7731\n",
      " Validation AUC: 0.6579\n",
      "\n",
      "Tree 9\n",
      "      Train AUC: 0.7782\n",
      " Validation AUC: 0.6621\n"
     ]
    }
   ],
   "source": [
    "print(\"X shape: \", X.shape)\n",
    "print(\"Y shape: \", Y.shape)\n",
    "\n",
    "for feature in range(n_bags):\n",
    "    print(\"\\nTree\",feature)\n",
    "    print(\"{0:>15}: {1:.4f}\".format(\"Train AUC\", bags[feature].auc(Xt,Yt)))\n",
    "    print(\"{0:>15}: {1:.4f}\".format(\"Validation AUC\", bags[feature].auc(Xva, Yva)))\n",
    "    \n",
    "    "
   ]
  },
  {
   "cell_type": "code",
   "execution_count": 28,
   "metadata": {},
   "outputs": [],
   "source": [
    "class BaggedTree(ml.base.classifier):\n",
    "    def __init__(self, learners):\n",
    "        \"\"\"Construct BaggedTree with leaners\"\"\"\n",
    "        self.learners = learners\n",
    "        \n",
    "    def predictSoft(self, X):\n",
    "        \"\"\"Predicts probability of eached bagged leaner and averages\"\"\"\n",
    "        n_bags = len(self.learners)\n",
    "        predictions = [self.learners[l].predictSoft(X) for l in range(n_bags)]\n",
    "        return np.mean(predictions, axis=0)"
   ]
  },
  {
   "cell_type": "code",
   "execution_count": 34,
   "metadata": {},
   "outputs": [
    {
     "name": "stdout",
     "output_type": "stream",
     "text": [
      "Averaged Score of bagged Trees\n",
      "      Train AUC: 0.8932\n",
      " Validation AUC: 0.7341\n"
     ]
    }
   ],
   "source": [
    "bt = BaggedTree(bags)\n",
    "bt.classes = np.unique(Y)\n",
    "\n",
    "print(\"Averaged Score of bagged Trees\")\n",
    "print(\"{0:>15}: {1:.4f}\".format(\"Train AUC\", bt.auc(Xt,Yt)))\n",
    "print(\"{0:>15}: {1:.4f}\".format(\"Validation AUC\", bt.auc(Xva, Yva)))"
   ]
  },
  {
   "cell_type": "markdown",
   "metadata": {},
   "source": [
    "## Interpretation\n",
    "The Single Decision Tree has a Validation AUC of about 82% and Train AUC of 82%, which is better than the Bagged Tree Method above, or other methods I tried like Boosting, or Max Depth methods. Unlike the notes or sample notebook methods, I allowed Xt, Yt to train on the entire dataset, which improved accuracy."
   ]
  },
  {
   "cell_type": "code",
   "execution_count": 141,
   "metadata": {},
   "outputs": [],
   "source": [
    "# kaggle username: wilsonhj\n",
    "# James W."
   ]
  }
 ],
 "metadata": {
  "kernelspec": {
   "display_name": "Python 3",
   "language": "python",
   "name": "python3"
  },
  "language_info": {
   "codemirror_mode": {
    "name": "ipython",
    "version": 3
   },
   "file_extension": ".py",
   "mimetype": "text/x-python",
   "name": "python",
   "nbconvert_exporter": "python",
   "pygments_lexer": "ipython3",
   "version": "3.6.6"
  }
 },
 "nbformat": 4,
 "nbformat_minor": 2
}
